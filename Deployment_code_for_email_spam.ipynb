{
  "nbformat": 4,
  "nbformat_minor": 0,
  "metadata": {
    "colab": {
      "provenance": [],
      "authorship_tag": "ABX9TyNjtvzw6FSBdPvJmMQ3Ko76",
      "include_colab_link": true
    },
    "kernelspec": {
      "name": "python3",
      "display_name": "Python 3"
    },
    "language_info": {
      "name": "python"
    }
  },
  "cells": [
    {
      "cell_type": "markdown",
      "metadata": {
        "id": "view-in-github",
        "colab_type": "text"
      },
      "source": [
        "<a href=\"https://colab.research.google.com/github/Aman78695/CIP-DATA-SCIENCE-INTERNSHIP_Emai_spam/blob/main/Deployment_code_for_email_spam.ipynb\" target=\"_parent\"><img src=\"https://colab.research.google.com/assets/colab-badge.svg\" alt=\"Open In Colab\"/></a>"
      ]
    },
    {
      "cell_type": "code",
      "execution_count": null,
      "metadata": {
        "id": "iizFvWMu-s7u"
      },
      "outputs": [],
      "source": [
        "import streamlit as st\n",
        "import pickle\n",
        "import texthero as hero\n",
        "import pandas as pd\n",
        "\n",
        "\n",
        "tfidf=pickle.load(open('vectorizer.pkl','rb'))\n",
        "model=pickle.load(open('model.pkl','rb'))\n",
        "\n",
        "st.title('Email Spam Classifier')\n",
        "input_text=st.text_area('input your message here')\n",
        "if st.button('predict'):\n",
        "    s = pd.DataFrame([input_text], columns=['text'])\n",
        "    cleaned_s = hero.clean(s['text'])\n",
        "    vector_text=tfidf.transform(cleaned_s).toarray()\n",
        "    result=model.predict(vector_text)[0]\n",
        "    if result==1:\n",
        "        st.write('spam')\n",
        "    else:\n",
        "        st.write('ham')\n",
        "\n"
      ]
    }
  ]
}